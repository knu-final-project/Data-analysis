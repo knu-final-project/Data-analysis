{
 "cells": [
  {
   "cell_type": "code",
   "execution_count": 4,
   "metadata": {},
   "outputs": [
    {
     "name": "stdout",
     "output_type": "stream",
     "text": [
      "C:\\Data_analysis\\data\n"
     ]
    }
   ],
   "source": [
    "## 경로 변경 및 출력\n",
    "os.chdir('C:/Data_analysis/data')\n",
    "print(os.getcwd())"
   ]
  },
  {
   "cell_type": "markdown",
   "metadata": {},
   "source": [
    "구글 스프레드 시트 가져오기\n",
    "- pip install gspread\n",
    "- pip install --upgrade oauth2client"
   ]
  },
  {
   "cell_type": "code",
   "execution_count": 5,
   "metadata": {},
   "outputs": [],
   "source": [
    "import pandas as pd\n",
    "import pickle\n",
    "import gspread\n",
    "from oauth2client.service_account import ServiceAccountCredentials"
   ]
  },
  {
   "cell_type": "code",
   "execution_count": 42,
   "metadata": {},
   "outputs": [],
   "source": [
    "## 1) 코드내 환경 셋업\n",
    "# 앞서 내려 받은 JSON 파일을 불러와 구글 시트와 연동합니다\n",
    "from oauth2client.service_account import ServiceAccountCredentials\n",
    "import gspread\n",
    "\n",
    "scope = ['https://spreadsheets.google.com/feeds',\n",
    "         'https://www.googleapis.com/auth/drive']\n",
    "credentials = ServiceAccountCredentials.from_json_keyfile_name(\n",
    "        'cryptic-honor-351410-7b1371906598.json', scope)\n",
    "gc = gspread.authorize(credentials)"
   ]
  },
  {
   "cell_type": "code",
   "execution_count": 43,
   "metadata": {},
   "outputs": [
    {
     "name": "stdout",
     "output_type": "stream",
     "text": [
      "[['타임스탬프', 'ID', 'SEX', 'AGE', 'HE_HT', 'HE_WT', 'LQ_1EQL', 'LQ_2EQL', 'LQ_3EQL', 'LQ_4EQL', 'LQ_5EQL', 'TOTAL_SLP_WD', 'BE3_81', 'BE3_85', 'BP1', 'SM_PRESNT', 'L_BR_FQ', 'BH1', 'HE_FH', 'HE_DBP', 'LQ4_00', 'BP7', 'MH_STRESS', 'HE_RPLS', 'BS13', 'BD1_11', 'N_INTK', 'N_EN', 'N_PROT', 'N_WATER', 'N_FAT', 'N_SFA', 'N_MUFA', 'N_CHOL', 'N_SUGAR', 'N_PHOS', 'N_NA', 'N_CAROT'], ['2022. 5. 26 오후 7:41:20', 'Leedongeon', '0', '71', '171', '71', '1', '1', '1', '1', '1', '9', '1', '1', '1', '0', '1', '1', '0', '0', '1', '1', '0', '1', '1', '1', '0', '0', '0', '0', '0', '0', '0', '0', '0', '0', '0', '0'], ['2022. 5. 26 오후 7:43:02', 'A지현', '0', '65', '183', '65', '1', '1', '1', '1', '2', '6', '2', '1', '2', '1', '1', '2', '1', '78', '2', '1', '1', '1', '1', '4', '0', '3100', '1200', '76', '0', '0', '0', '0', '0', '0', '0', '0'], ['2022. 5. 27 오후 3:13:09', 'JYSONG', '0', '65', '177', '75', '1', '1', '1', '1', '1', '5', '2', '2', '4', '1', '1', '2', '0', '85', '2', '2', '0', '1', '1', '3', '0', '0', '0', '0', '0', '0', '0', '0', '0', '0', '0', '0']]\n"
     ]
    }
   ],
   "source": [
    "# get_all_values() 함수를 이용해 코드를 실행하면 리스트 형태의 값이 리턴됩니다.\n",
    "gc1 = gc.open(\"설문결과\").worksheet('시트1')\n",
    "gc2 = gc1.get_all_values()\n",
    "print(gc2)"
   ]
  },
  {
   "cell_type": "code",
   "execution_count": 44,
   "metadata": {},
   "outputs": [
    {
     "data": {
      "text/html": [
       "<div>\n",
       "<style scoped>\n",
       "    .dataframe tbody tr th:only-of-type {\n",
       "        vertical-align: middle;\n",
       "    }\n",
       "\n",
       "    .dataframe tbody tr th {\n",
       "        vertical-align: top;\n",
       "    }\n",
       "\n",
       "    .dataframe thead th {\n",
       "        text-align: right;\n",
       "    }\n",
       "</style>\n",
       "<table border=\"1\" class=\"dataframe\">\n",
       "  <thead>\n",
       "    <tr style=\"text-align: right;\">\n",
       "      <th></th>\n",
       "      <th>타임스탬프</th>\n",
       "      <th>ID</th>\n",
       "      <th>SEX</th>\n",
       "      <th>AGE</th>\n",
       "      <th>HE_HT</th>\n",
       "      <th>HE_WT</th>\n",
       "      <th>LQ_1EQL</th>\n",
       "      <th>LQ_2EQL</th>\n",
       "      <th>LQ_3EQL</th>\n",
       "      <th>LQ_4EQL</th>\n",
       "      <th>...</th>\n",
       "      <th>N_PROT</th>\n",
       "      <th>N_WATER</th>\n",
       "      <th>N_FAT</th>\n",
       "      <th>N_SFA</th>\n",
       "      <th>N_MUFA</th>\n",
       "      <th>N_CHOL</th>\n",
       "      <th>N_SUGAR</th>\n",
       "      <th>N_PHOS</th>\n",
       "      <th>N_NA</th>\n",
       "      <th>N_CAROT</th>\n",
       "    </tr>\n",
       "  </thead>\n",
       "  <tbody>\n",
       "    <tr>\n",
       "      <th>1</th>\n",
       "      <td>2022. 5. 26 오후 7:41:20</td>\n",
       "      <td>Leedongeon</td>\n",
       "      <td>0</td>\n",
       "      <td>71</td>\n",
       "      <td>171</td>\n",
       "      <td>71</td>\n",
       "      <td>1</td>\n",
       "      <td>1</td>\n",
       "      <td>1</td>\n",
       "      <td>1</td>\n",
       "      <td>...</td>\n",
       "      <td>0</td>\n",
       "      <td>0</td>\n",
       "      <td>0</td>\n",
       "      <td>0</td>\n",
       "      <td>0</td>\n",
       "      <td>0</td>\n",
       "      <td>0</td>\n",
       "      <td>0</td>\n",
       "      <td>0</td>\n",
       "      <td>0</td>\n",
       "    </tr>\n",
       "    <tr>\n",
       "      <th>2</th>\n",
       "      <td>2022. 5. 26 오후 7:43:02</td>\n",
       "      <td>A지현</td>\n",
       "      <td>0</td>\n",
       "      <td>65</td>\n",
       "      <td>183</td>\n",
       "      <td>65</td>\n",
       "      <td>1</td>\n",
       "      <td>1</td>\n",
       "      <td>1</td>\n",
       "      <td>1</td>\n",
       "      <td>...</td>\n",
       "      <td>1200</td>\n",
       "      <td>76</td>\n",
       "      <td>0</td>\n",
       "      <td>0</td>\n",
       "      <td>0</td>\n",
       "      <td>0</td>\n",
       "      <td>0</td>\n",
       "      <td>0</td>\n",
       "      <td>0</td>\n",
       "      <td>0</td>\n",
       "    </tr>\n",
       "    <tr>\n",
       "      <th>3</th>\n",
       "      <td>2022. 5. 27 오후 3:13:09</td>\n",
       "      <td>JYSONG</td>\n",
       "      <td>0</td>\n",
       "      <td>65</td>\n",
       "      <td>177</td>\n",
       "      <td>75</td>\n",
       "      <td>1</td>\n",
       "      <td>1</td>\n",
       "      <td>1</td>\n",
       "      <td>1</td>\n",
       "      <td>...</td>\n",
       "      <td>0</td>\n",
       "      <td>0</td>\n",
       "      <td>0</td>\n",
       "      <td>0</td>\n",
       "      <td>0</td>\n",
       "      <td>0</td>\n",
       "      <td>0</td>\n",
       "      <td>0</td>\n",
       "      <td>0</td>\n",
       "      <td>0</td>\n",
       "    </tr>\n",
       "  </tbody>\n",
       "</table>\n",
       "<p>3 rows × 38 columns</p>\n",
       "</div>"
      ],
      "text/plain": [
       "                    타임스탬프          ID SEX AGE HE_HT HE_WT LQ_1EQL LQ_2EQL  \\\n",
       "1  2022. 5. 26 오후 7:41:20  Leedongeon   0  71   171    71       1       1   \n",
       "2  2022. 5. 26 오후 7:43:02         A지현   0  65   183    65       1       1   \n",
       "3  2022. 5. 27 오후 3:13:09      JYSONG   0  65   177    75       1       1   \n",
       "\n",
       "  LQ_3EQL LQ_4EQL  ... N_PROT N_WATER N_FAT N_SFA N_MUFA N_CHOL N_SUGAR  \\\n",
       "1       1       1  ...      0       0     0     0      0      0       0   \n",
       "2       1       1  ...   1200      76     0     0      0      0       0   \n",
       "3       1       1  ...      0       0     0     0      0      0       0   \n",
       "\n",
       "  N_PHOS N_NA N_CAROT  \n",
       "1      0    0       0  \n",
       "2      0    0       0  \n",
       "3      0    0       0  \n",
       "\n",
       "[3 rows x 38 columns]"
      ]
     },
     "execution_count": 44,
     "metadata": {},
     "output_type": "execute_result"
    }
   ],
   "source": [
    "# pandas 패키지를 활용해 데이터 프레임으로 받아올 수도 있습니다.\n",
    "gc2 = pd.DataFrame(gc2, columns=gc2[0])\n",
    "gc2 = gc2.reindex(gc2.index.drop(0))\n",
    "gc2"
   ]
  },
  {
   "cell_type": "code",
   "execution_count": 45,
   "metadata": {},
   "outputs": [
    {
     "data": {
      "text/plain": [
       "1    1\n",
       "2    1\n",
       "3    1\n",
       "Name: L_BR_FQ, dtype: object"
      ]
     },
     "execution_count": 45,
     "metadata": {},
     "output_type": "execute_result"
    }
   ],
   "source": [
    "gc2['L_BR_FQ']"
   ]
  },
  {
   "cell_type": "code",
   "execution_count": 89,
   "metadata": {},
   "outputs": [],
   "source": [
    "main_list = ['ID', 'SEX', 'AGE', 'HE_HT', 'HE_WT', 'HE_BMI', 'LQ_1EQL', 'LQ_2EQL',\n",
    "       'LQ_3EQL', 'LQ_4EQL', 'LQ_5EQL', 'TOTAL_SLP_WD', 'BE3_81', 'BE3_85',\n",
    "       'BP1', 'SM_PRESNT', 'L_BR_FQ', 'BH1', 'HE_FH', 'HE_DBP', 'LQ4_00',\n",
    "       'BP7', 'MH_STRESS', 'HE_RPLS', 'BS13', 'BD1_11', 'N_INTK', 'N_EN',\n",
    "       'N_PROT', 'N_WATER', 'N_FAT', 'N_SFA', 'N_MUFA', 'N_CHOL', 'N_SUGAR',\n",
    "       'N_PHOS', 'N_NA', 'N_CAROT']"
   ]
  },
  {
   "cell_type": "code",
   "execution_count": 90,
   "metadata": {},
   "outputs": [],
   "source": [
    "## 데이터 불러오기\n",
    "dis = pd.read_csv('data_dis.csv',index_col=0)"
   ]
  },
  {
   "cell_type": "code",
   "execution_count": 91,
   "metadata": {},
   "outputs": [],
   "source": [
    "## 설문지 -> 데이터프레임\n",
    "test = pd.DataFrame(columns=main_list)\n",
    "\n",
    "for i in test.columns:\n",
    "    if i == 'HE_BMI':\n",
    "        test[i] = round(gc2['HE_WT'].astype('int') / (gc2.loc[:,'HE_HT'].astype('int') * 2)*100,1)\n",
    "    else:\n",
    "        test[i] = gc2[i]"
   ]
  },
  {
   "cell_type": "code",
   "execution_count": 92,
   "metadata": {},
   "outputs": [],
   "source": [
    "### 질병에 따른 각 변수에 대한 사전\n",
    "with open('dis_var.pkl', 'rb') as f:\n",
    "    dis_var = pickle.load(f)"
   ]
  },
  {
   "cell_type": "code",
   "execution_count": 93,
   "metadata": {},
   "outputs": [],
   "source": [
    "### 질병이름 사전\n",
    "with open('dis_name.pkl', 'rb') as f:\n",
    "    dis_name = pickle.load(f)"
   ]
  },
  {
   "cell_type": "markdown",
   "metadata": {},
   "source": [
    "## 질병명만 출력"
   ]
  },
  {
   "cell_type": "code",
   "execution_count": 94,
   "metadata": {},
   "outputs": [
    {
     "name": "stdout",
     "output_type": "stream",
     "text": [
      "Leedongeon님의 생활패턴 유사도 결과 4가지 질병에서 유병자와의 생활패턴이 일치하다고 예측되었습니다. \n",
      "['골관절염', '천식', '당뇨병', '갑상선 질환']\n",
      "A지현님의 생활패턴 유사도 결과 8가지 질병에서 유병자와의 생활패턴이 일치하다고 예측되었습니다. \n",
      "['골관절염', '천식', '당뇨병', '갑상선 질환', '골관절염', '천식', '당뇨병', '갑상선 질환']\n",
      "JYSONG님의 생활패턴 유사도 결과 12가지 질병에서 유병자와의 생활패턴이 일치하다고 예측되었습니다. \n",
      "['골관절염', '천식', '당뇨병', '갑상선 질환', '골관절염', '천식', '당뇨병', '갑상선 질환', '골관절염', '천식', '당뇨병', '갑상선 질환']\n"
     ]
    }
   ],
   "source": [
    "dis_list = []\n",
    "for n in range(0,len(test)):\n",
    "    if 'ID' in test.columns:\n",
    "        ID = test['ID']\n",
    "        test = test.drop('ID',axis=1)\n",
    "    else:\n",
    "        test = test\n",
    "    for i in range(0,len(dis.columns)-1):\n",
    "        ## 질병 머신러닝 모델\n",
    "        with open(f'{dis.columns[i]}.pkl', 'rb') as f:\n",
    "            model = pickle.load(f)\n",
    "            if model.predict(test[dis_var[dis.columns[i]]])[0] == 1:\n",
    "                dis_list.append(dis_name[dis.columns[i]])\n",
    "    try:\n",
    "        print(f'{ID[n+1]}님의 생활패턴 유사도 결과 {len(dis_list)}가지 질병에서 유병자와의 생활패턴이 일치하다고 예측되었습니다. \\n{dis_list}')\n",
    "    except:\n",
    "        print(f'고객님의 생활패턴 유사도 결과 {len(dis_list)}가지 질병에서 유병자와의 생활패턴이 일치하다고 예측되었습니다. \\n{dis_list}')"
   ]
  },
  {
   "cell_type": "markdown",
   "metadata": {},
   "source": [
    "## 질병 : 유사도 (%)"
   ]
  },
  {
   "cell_type": "code",
   "execution_count": 106,
   "metadata": {},
   "outputs": [
    {
     "data": {
      "text/html": [
       "<div>\n",
       "<style scoped>\n",
       "    .dataframe tbody tr th:only-of-type {\n",
       "        vertical-align: middle;\n",
       "    }\n",
       "\n",
       "    .dataframe tbody tr th {\n",
       "        vertical-align: top;\n",
       "    }\n",
       "\n",
       "    .dataframe thead th {\n",
       "        text-align: right;\n",
       "    }\n",
       "</style>\n",
       "<table border=\"1\" class=\"dataframe\">\n",
       "  <thead>\n",
       "    <tr style=\"text-align: right;\">\n",
       "      <th></th>\n",
       "      <th>ID</th>\n",
       "      <th>DI2_DG</th>\n",
       "      <th>DI3_DG</th>\n",
       "      <th>DI4_DG</th>\n",
       "      <th>DI5_DG</th>\n",
       "      <th>DM2_DG</th>\n",
       "      <th>DM3_DG</th>\n",
       "      <th>DM4_DG</th>\n",
       "      <th>DJ2_DG</th>\n",
       "      <th>DJ4_DG</th>\n",
       "      <th>...</th>\n",
       "      <th>DJ8_DG</th>\n",
       "      <th>DI6_DG</th>\n",
       "      <th>DF2_DG</th>\n",
       "      <th>DL1_DG</th>\n",
       "      <th>DE1_DG</th>\n",
       "      <th>DE2_DG</th>\n",
       "      <th>DH4_DG</th>\n",
       "      <th>DC1_DG</th>\n",
       "      <th>DC3_DG</th>\n",
       "      <th>DK8_DG</th>\n",
       "    </tr>\n",
       "  </thead>\n",
       "  <tbody>\n",
       "  </tbody>\n",
       "</table>\n",
       "<p>0 rows × 21 columns</p>\n",
       "</div>"
      ],
      "text/plain": [
       "Empty DataFrame\n",
       "Columns: [ID, DI2_DG, DI3_DG, DI4_DG, DI5_DG, DM2_DG, DM3_DG, DM4_DG, DJ2_DG, DJ4_DG, DJ6_DG, DJ8_DG, DI6_DG, DF2_DG, DL1_DG, DE1_DG, DE2_DG, DH4_DG, DC1_DG, DC3_DG, DK8_DG]\n",
       "Index: []\n",
       "\n",
       "[0 rows x 21 columns]"
      ]
     },
     "execution_count": 106,
     "metadata": {},
     "output_type": "execute_result"
    }
   ],
   "source": [
    "result = pd.DataFrame(columns=['ID','DI2_DG', 'DI3_DG', 'DI4_DG', 'DI5_DG', 'DM2_DG', 'DM3_DG', 'DM4_DG',\n",
    "       'DJ2_DG', 'DJ4_DG', 'DJ6_DG', 'DJ8_DG', 'DI6_DG', 'DF2_DG', 'DL1_DG',\n",
    "       'DE1_DG', 'DE2_DG', 'DH4_DG', 'DC1_DG', 'DC3_DG', 'DK8_DG'])\n",
    "result"
   ]
  },
  {
   "cell_type": "code",
   "execution_count": null,
   "metadata": {},
   "outputs": [],
   "source": [
    "with open('result.pkl', 'rb') as f:\n",
    "        r = pickle.load(f)"
   ]
  },
  {
   "cell_type": "code",
   "execution_count": 108,
   "metadata": {},
   "outputs": [
    {
     "name": "stdout",
     "output_type": "stream",
     "text": [
      "0\n"
     ]
    }
   ],
   "source": [
    "cont = int(input('처음부터 출력할까요? (예:1/아니오:2)'))\n",
    "if cont == 1:\n",
    "    start = 0\n",
    "elif cont == 2:\n",
    "    with open('data_n.pkl', 'rb') as f:\n",
    "        m = pickle.load(f)\n",
    "        start = m + 1\n",
    "\n",
    "print(start)"
   ]
  },
  {
   "cell_type": "code",
   "execution_count": 109,
   "metadata": {},
   "outputs": [],
   "source": [
    "## 설문지 -> 데이터프레임\n",
    "test = pd.DataFrame(columns=main_list)\n",
    "\n",
    "for i in test.columns:\n",
    "    if i == 'HE_BMI':\n",
    "        test[i] = round(gc2['HE_WT'].astype('int') / (gc2.loc[:,'HE_HT'].astype('int') * 2)*100,1)\n",
    "    else:\n",
    "        test[i] = gc2[i]"
   ]
  },
  {
   "cell_type": "code",
   "execution_count": 110,
   "metadata": {},
   "outputs": [
    {
     "name": "stdout",
     "output_type": "stream",
     "text": [
      "Leedongeon님과 각 질병 유병자들과의 생활패턴 유사도 결과입니다.\n",
      "\n",
      "이상지질혈증 : 0.0%\n",
      "뇌졸중 : 21.93%\n",
      "심혈관질환 : 98.32%\n",
      "심근경색증 : 0.0%\n",
      "골관절염 : 100.0%\n",
      "류마티스성 관절염 : 20.32%\n",
      "골다공증 : 21.86%\n",
      "폐결핵 : 0.0%\n",
      "천식 : 60.62%\n",
      "부비동염 : 35.99%\n",
      "알레르기비염 : 26.25%\n",
      "협심증 : 0.07%\n",
      "우울증 : 0.0%\n",
      "아토피피부염 : 37.1%\n",
      "당뇨병 : 95.46%\n",
      "갑상선 질환 : 100.0%\n",
      "중이염 : 0.55%\n",
      "위암 : 34.71%\n",
      "대장암 : 23.13%\n",
      "B형간염 : 37.47%\n",
      "----------------------------------------------------------------------------------------------------\n",
      "A지현님과 각 질병 유병자들과의 생활패턴 유사도 결과입니다.\n",
      "\n",
      "이상지질혈증 : 0.0%\n",
      "뇌졸중 : 12.68%\n",
      "심혈관질환 : 96.09%\n",
      "심근경색증 : 0.0%\n",
      "골관절염 : 0.0%\n",
      "류마티스성 관절염 : 37.3%\n",
      "골다공증 : 21.73%\n",
      "폐결핵 : 0.0%\n",
      "천식 : 60.62%\n",
      "부비동염 : 23.47%\n",
      "알레르기비염 : 26.25%\n",
      "협심증 : 21.91%\n",
      "우울증 : 0.0%\n",
      "아토피피부염 : 46.7%\n",
      "당뇨병 : 26.36%\n",
      "갑상선 질환 : 84.99%\n",
      "중이염 : 0.5%\n",
      "위암 : 32.92%\n",
      "대장암 : 23.12%\n",
      "B형간염 : 35.47%\n",
      "----------------------------------------------------------------------------------------------------\n",
      "JYSONG님과 각 질병 유병자들과의 생활패턴 유사도 결과입니다.\n",
      "\n",
      "이상지질혈증 : 0.0%\n",
      "뇌졸중 : 21.75%\n",
      "심혈관질환 : 95.05%\n",
      "심근경색증 : 0.0%\n",
      "골관절염 : 100.0%\n",
      "류마티스성 관절염 : 20.28%\n",
      "골다공증 : 21.86%\n",
      "폐결핵 : 0.0%\n",
      "천식 : 60.62%\n",
      "부비동염 : 11.53%\n",
      "알레르기비염 : 26.25%\n",
      "협심증 : 19.82%\n",
      "우울증 : 0.0%\n",
      "아토피피부염 : 28.94%\n",
      "당뇨병 : 17.72%\n",
      "갑상선 질환 : 100.0%\n",
      "중이염 : 0.48%\n",
      "위암 : 32.82%\n",
      "대장암 : 23.13%\n",
      "B형간염 : 34.41%\n",
      "----------------------------------------------------------------------------------------------------\n"
     ]
    }
   ],
   "source": [
    "try:\n",
    "    for n in range(start,len(test)):\n",
    "        aa = []\n",
    "        if 'ID' in test.columns:\n",
    "            result.loc[n,'ID'] = test.values[n][0]\n",
    "            print(f\"{test.values[n][0]}님과 각 질병 유병자들과의 생활패턴 유사도 결과입니다.\\n\")\n",
    "            data = test.drop('ID',axis=1)\n",
    "        else:\n",
    "            print(\"각 질병 유병자들과의 생활패턴 유사도 결과입니다.\",'\\n')\n",
    "            data = test\n",
    "        for i in range(0,len(dis.columns)-1):\n",
    "            ## 질병 머신러닝 모델\n",
    "            with open(f'{dis.columns[i]}.pkl', 'rb') as f:\n",
    "                model = pickle.load(f)\n",
    "                percent = round(model.predict_proba(data.iloc[[n]][dis_var[dis.columns[i]]])[0][1]*100,2)\n",
    "            print(f'{dis_name[dis.columns[i]]} : {percent}%')\n",
    "            if cont == 1:\n",
    "                result.loc[n,dis.columns[i]] = percent\n",
    "\n",
    "        print('-' * 100)\n",
    "\n",
    "        pickle.dump(n, open('data_n.pkl', 'wb'))\n",
    "        pickle.dump(result, open('result.pkl', 'wb'))    \n",
    "except:\n",
    "    print('새로운 데이터가 없습니다.')\n",
    "    "
   ]
  },
  {
   "cell_type": "code",
   "execution_count": 111,
   "metadata": {},
   "outputs": [
    {
     "data": {
      "text/html": [
       "<div>\n",
       "<style scoped>\n",
       "    .dataframe tbody tr th:only-of-type {\n",
       "        vertical-align: middle;\n",
       "    }\n",
       "\n",
       "    .dataframe tbody tr th {\n",
       "        vertical-align: top;\n",
       "    }\n",
       "\n",
       "    .dataframe thead th {\n",
       "        text-align: right;\n",
       "    }\n",
       "</style>\n",
       "<table border=\"1\" class=\"dataframe\">\n",
       "  <thead>\n",
       "    <tr style=\"text-align: right;\">\n",
       "      <th></th>\n",
       "      <th>ID</th>\n",
       "      <th>DI2_DG</th>\n",
       "      <th>DI3_DG</th>\n",
       "      <th>DI4_DG</th>\n",
       "      <th>DI5_DG</th>\n",
       "      <th>DM2_DG</th>\n",
       "      <th>DM3_DG</th>\n",
       "      <th>DM4_DG</th>\n",
       "      <th>DJ2_DG</th>\n",
       "      <th>DJ4_DG</th>\n",
       "      <th>...</th>\n",
       "      <th>DJ8_DG</th>\n",
       "      <th>DI6_DG</th>\n",
       "      <th>DF2_DG</th>\n",
       "      <th>DL1_DG</th>\n",
       "      <th>DE1_DG</th>\n",
       "      <th>DE2_DG</th>\n",
       "      <th>DH4_DG</th>\n",
       "      <th>DC1_DG</th>\n",
       "      <th>DC3_DG</th>\n",
       "      <th>DK8_DG</th>\n",
       "    </tr>\n",
       "  </thead>\n",
       "  <tbody>\n",
       "    <tr>\n",
       "      <th>0</th>\n",
       "      <td>Leedongeon</td>\n",
       "      <td>0.0</td>\n",
       "      <td>21.93</td>\n",
       "      <td>98.32</td>\n",
       "      <td>0.0</td>\n",
       "      <td>100.0</td>\n",
       "      <td>20.32</td>\n",
       "      <td>21.86</td>\n",
       "      <td>0.0</td>\n",
       "      <td>60.62</td>\n",
       "      <td>...</td>\n",
       "      <td>26.25</td>\n",
       "      <td>0.07</td>\n",
       "      <td>0.0</td>\n",
       "      <td>37.1</td>\n",
       "      <td>95.46</td>\n",
       "      <td>100.0</td>\n",
       "      <td>0.55</td>\n",
       "      <td>34.71</td>\n",
       "      <td>23.13</td>\n",
       "      <td>37.47</td>\n",
       "    </tr>\n",
       "    <tr>\n",
       "      <th>1</th>\n",
       "      <td>A지현</td>\n",
       "      <td>0.0</td>\n",
       "      <td>12.68</td>\n",
       "      <td>96.09</td>\n",
       "      <td>0.0</td>\n",
       "      <td>0.0</td>\n",
       "      <td>37.3</td>\n",
       "      <td>21.73</td>\n",
       "      <td>0.0</td>\n",
       "      <td>60.62</td>\n",
       "      <td>...</td>\n",
       "      <td>26.25</td>\n",
       "      <td>21.91</td>\n",
       "      <td>0.0</td>\n",
       "      <td>46.7</td>\n",
       "      <td>26.36</td>\n",
       "      <td>84.99</td>\n",
       "      <td>0.5</td>\n",
       "      <td>32.92</td>\n",
       "      <td>23.12</td>\n",
       "      <td>35.47</td>\n",
       "    </tr>\n",
       "    <tr>\n",
       "      <th>2</th>\n",
       "      <td>JYSONG</td>\n",
       "      <td>0.0</td>\n",
       "      <td>21.75</td>\n",
       "      <td>95.05</td>\n",
       "      <td>0.0</td>\n",
       "      <td>100.0</td>\n",
       "      <td>20.28</td>\n",
       "      <td>21.86</td>\n",
       "      <td>0.0</td>\n",
       "      <td>60.62</td>\n",
       "      <td>...</td>\n",
       "      <td>26.25</td>\n",
       "      <td>19.82</td>\n",
       "      <td>0.0</td>\n",
       "      <td>28.94</td>\n",
       "      <td>17.72</td>\n",
       "      <td>100.0</td>\n",
       "      <td>0.48</td>\n",
       "      <td>32.82</td>\n",
       "      <td>23.13</td>\n",
       "      <td>34.41</td>\n",
       "    </tr>\n",
       "  </tbody>\n",
       "</table>\n",
       "<p>3 rows × 21 columns</p>\n",
       "</div>"
      ],
      "text/plain": [
       "           ID DI2_DG DI3_DG DI4_DG DI5_DG DM2_DG DM3_DG DM4_DG DJ2_DG DJ4_DG  \\\n",
       "0  Leedongeon    0.0  21.93  98.32    0.0  100.0  20.32  21.86    0.0  60.62   \n",
       "1         A지현    0.0  12.68  96.09    0.0    0.0   37.3  21.73    0.0  60.62   \n",
       "2      JYSONG    0.0  21.75  95.05    0.0  100.0  20.28  21.86    0.0  60.62   \n",
       "\n",
       "   ... DJ8_DG DI6_DG DF2_DG DL1_DG DE1_DG DE2_DG DH4_DG DC1_DG DC3_DG DK8_DG  \n",
       "0  ...  26.25   0.07    0.0   37.1  95.46  100.0   0.55  34.71  23.13  37.47  \n",
       "1  ...  26.25  21.91    0.0   46.7  26.36  84.99    0.5  32.92  23.12  35.47  \n",
       "2  ...  26.25  19.82    0.0  28.94  17.72  100.0   0.48  32.82  23.13  34.41  \n",
       "\n",
       "[3 rows x 21 columns]"
      ]
     },
     "execution_count": 111,
     "metadata": {},
     "output_type": "execute_result"
    }
   ],
   "source": [
    "result"
   ]
  },
  {
   "cell_type": "code",
   "execution_count": 112,
   "metadata": {},
   "outputs": [
    {
     "name": "stdout",
     "output_type": "stream",
     "text": [
      "           ID DI2_DG DI3_DG DI4_DG DI5_DG DM2_DG DM3_DG DM4_DG DJ2_DG DJ4_DG  \\\n",
      "0  Leedongeon    0.0  21.93  98.32    0.0  100.0  20.32  21.86    0.0  60.62   \n",
      "1         A지현    0.0  12.68  96.09    0.0    0.0   37.3  21.73    0.0  60.62   \n",
      "2      JYSONG    0.0  21.75  95.05    0.0  100.0  20.28  21.86    0.0  60.62   \n",
      "\n",
      "   ... DJ8_DG DI6_DG DF2_DG DL1_DG DE1_DG DE2_DG DH4_DG DC1_DG DC3_DG DK8_DG  \n",
      "0  ...  26.25   0.07    0.0   37.1  95.46  100.0   0.55  34.71  23.13  37.47  \n",
      "1  ...  26.25  21.91    0.0   46.7  26.36  84.99    0.5  32.92  23.12  35.47  \n",
      "2  ...  26.25  19.82    0.0  28.94  17.72  100.0   0.48  32.82  23.13  34.41  \n",
      "\n",
      "[3 rows x 21 columns]\n"
     ]
    }
   ],
   "source": [
    "with open('result.pkl', 'rb') as f:\n",
    "        r = pickle.load(f)\n",
    "\n",
    "print(r)"
   ]
  },
  {
   "cell_type": "code",
   "execution_count": null,
   "metadata": {},
   "outputs": [],
   "source": []
  }
 ],
 "metadata": {
  "interpreter": {
   "hash": "3a909b764e5297ab7243911d79b34f3ad584c453baa3fb8c1fea8bd611715306"
  },
  "kernelspec": {
   "display_name": "Python 3.8.13 ('conda38')",
   "language": "python",
   "name": "python3"
  },
  "language_info": {
   "codemirror_mode": {
    "name": "ipython",
    "version": 3
   },
   "file_extension": ".py",
   "mimetype": "text/x-python",
   "name": "python",
   "nbconvert_exporter": "python",
   "pygments_lexer": "ipython3",
   "version": "3.8.13"
  },
  "orig_nbformat": 4
 },
 "nbformat": 4,
 "nbformat_minor": 2
}
